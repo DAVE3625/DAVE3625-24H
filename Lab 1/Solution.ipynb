{
 "cells": [
  {
   "cell_type": "markdown",
   "metadata": {},
   "source": [
    "# The data used in ths example is generated with random values"
   ]
  },
  {
   "cell_type": "code",
   "execution_count": 1,
   "metadata": {},
   "outputs": [],
   "source": [
    "#Script used for generating the data set\n",
    "#Errors added to the set for exercise purposes\n",
    "\n",
    "\n",
    "#import random\n",
    "#print(StudentID,Age,email,hrsStudy,FinalGrade)\n",
    "#for i in range(50):\n",
    "#    studId =\"s\" + str(random.randrange(10000,99999,1)) \n",
    "#    print(str(studId)+\",\"+ str(random.randrange(19,35,1))+\",\"+str(studId+\"@oslomet.no\"+\",\"+str(random.randint(0, 12)))+\",\"+str(random.randint(20, 100)))\n"
   ]
  },
  {
   "cell_type": "code",
   "execution_count": 2,
   "metadata": {},
   "outputs": [],
   "source": [
    "#Import modules\n",
    "%matplotlib inline\n",
    "import pandas as pd\n",
    "import numpy as np\n",
    "from scipy import stats\n",
    "import matplotlib as plt"
   ]
  },
  {
   "cell_type": "code",
   "execution_count": 3,
   "metadata": {},
   "outputs": [],
   "source": [
    "#Import csv file\n",
    "url = 'https://raw.githubusercontent.com/umaimehm/Intro_to_AI_2021/main/Lab1/stud.csv'"
   ]
  },
  {
   "cell_type": "code",
   "execution_count": 8,
   "metadata": {},
   "outputs": [
    {
     "data": {
      "text/html": [
       "<div>\n",
       "<style scoped>\n",
       "    .dataframe tbody tr th:only-of-type {\n",
       "        vertical-align: middle;\n",
       "    }\n",
       "\n",
       "    .dataframe tbody tr th {\n",
       "        vertical-align: top;\n",
       "    }\n",
       "\n",
       "    .dataframe thead th {\n",
       "        text-align: right;\n",
       "    }\n",
       "</style>\n",
       "<table border=\"1\" class=\"dataframe\">\n",
       "  <thead>\n",
       "    <tr style=\"text-align: right;\">\n",
       "      <th></th>\n",
       "      <th>StudentID</th>\n",
       "      <th>Age</th>\n",
       "      <th>email</th>\n",
       "      <th>hrsStudy</th>\n",
       "      <th>FinalGrade</th>\n",
       "    </tr>\n",
       "  </thead>\n",
       "  <tbody>\n",
       "    <tr>\n",
       "      <th>0</th>\n",
       "      <td>47412</td>\n",
       "      <td>20</td>\n",
       "      <td>s47412@oslomet.no</td>\n",
       "      <td>5</td>\n",
       "      <td>46.0</td>\n",
       "    </tr>\n",
       "    <tr>\n",
       "      <th>1</th>\n",
       "      <td>15077</td>\n",
       "      <td>22</td>\n",
       "      <td>s15077@oslomet.no</td>\n",
       "      <td>0</td>\n",
       "      <td>65.0</td>\n",
       "    </tr>\n",
       "    <tr>\n",
       "      <th>2</th>\n",
       "      <td>15467</td>\n",
       "      <td>27</td>\n",
       "      <td>s15467@oslomet.no</td>\n",
       "      <td>1</td>\n",
       "      <td>26.0</td>\n",
       "    </tr>\n",
       "    <tr>\n",
       "      <th>3</th>\n",
       "      <td>17907</td>\n",
       "      <td>21</td>\n",
       "      <td>s17907@oslomet.no</td>\n",
       "      <td>6</td>\n",
       "      <td>68.0</td>\n",
       "    </tr>\n",
       "    <tr>\n",
       "      <th>4</th>\n",
       "      <td>13352</td>\n",
       "      <td>333</td>\n",
       "      <td>s13352@oslomet.no</td>\n",
       "      <td>4</td>\n",
       "      <td>34.0</td>\n",
       "    </tr>\n",
       "  </tbody>\n",
       "</table>\n",
       "</div>"
      ],
      "text/plain": [
       "   StudentID  Age              email hrsStudy  FinalGrade\n",
       "0      47412   20  s47412@oslomet.no        5        46.0\n",
       "1      15077   22  s15077@oslomet.no        0        65.0\n",
       "2      15467   27  s15467@oslomet.no        1        26.0\n",
       "3      17907   21  s17907@oslomet.no        6        68.0\n",
       "4      13352  333  s13352@oslomet.no        4        34.0"
      ]
     },
     "execution_count": 8,
     "metadata": {},
     "output_type": "execute_result"
    }
   ],
   "source": [
    "#Read the csv, notice sep=','.. For CSV files created in Norwegian excel we need to use sep=';'#\n",
    "#df = pd.read_csv(url, na_values=' ') You can use this for automatically convert blank space to nan values\n",
    "df = pd.read_csv(url, sep=',')\n",
    "\n",
    "df.head()"
   ]
  },
  {
   "cell_type": "code",
   "execution_count": 9,
   "metadata": {},
   "outputs": [
    {
     "data": {
      "text/html": [
       "<div>\n",
       "<style scoped>\n",
       "    .dataframe tbody tr th:only-of-type {\n",
       "        vertical-align: middle;\n",
       "    }\n",
       "\n",
       "    .dataframe tbody tr th {\n",
       "        vertical-align: top;\n",
       "    }\n",
       "\n",
       "    .dataframe thead th {\n",
       "        text-align: right;\n",
       "    }\n",
       "</style>\n",
       "<table border=\"1\" class=\"dataframe\">\n",
       "  <thead>\n",
       "    <tr style=\"text-align: right;\">\n",
       "      <th></th>\n",
       "      <th>StudentID</th>\n",
       "      <th>FinalGrade</th>\n",
       "    </tr>\n",
       "  </thead>\n",
       "  <tbody>\n",
       "    <tr>\n",
       "      <th>count</th>\n",
       "      <td>50.000000</td>\n",
       "      <td>49.000000</td>\n",
       "    </tr>\n",
       "    <tr>\n",
       "      <th>mean</th>\n",
       "      <td>48969.820000</td>\n",
       "      <td>71.653061</td>\n",
       "    </tr>\n",
       "    <tr>\n",
       "      <th>std</th>\n",
       "      <td>26870.066326</td>\n",
       "      <td>90.455917</td>\n",
       "    </tr>\n",
       "    <tr>\n",
       "      <th>min</th>\n",
       "      <td>10736.000000</td>\n",
       "      <td>24.000000</td>\n",
       "    </tr>\n",
       "    <tr>\n",
       "      <th>25%</th>\n",
       "      <td>26666.500000</td>\n",
       "      <td>39.000000</td>\n",
       "    </tr>\n",
       "    <tr>\n",
       "      <th>50%</th>\n",
       "      <td>44292.000000</td>\n",
       "      <td>60.000000</td>\n",
       "    </tr>\n",
       "    <tr>\n",
       "      <th>75%</th>\n",
       "      <td>70400.250000</td>\n",
       "      <td>78.000000</td>\n",
       "    </tr>\n",
       "    <tr>\n",
       "      <th>max</th>\n",
       "      <td>99823.000000</td>\n",
       "      <td>673.000000</td>\n",
       "    </tr>\n",
       "  </tbody>\n",
       "</table>\n",
       "</div>"
      ],
      "text/plain": [
       "          StudentID  FinalGrade\n",
       "count     50.000000   49.000000\n",
       "mean   48969.820000   71.653061\n",
       "std    26870.066326   90.455917\n",
       "min    10736.000000   24.000000\n",
       "25%    26666.500000   39.000000\n",
       "50%    44292.000000   60.000000\n",
       "75%    70400.250000   78.000000\n",
       "max    99823.000000  673.000000"
      ]
     },
     "execution_count": 9,
     "metadata": {},
     "output_type": "execute_result"
    }
   ],
   "source": [
    "df.describe()"
   ]
  },
  {
   "cell_type": "markdown",
   "metadata": {},
   "source": [
    "Ok, so we only get describe data for two columns.. Why?\n",
    "Pandas will try to calculate for all rows, but since calculation only can be done on numbers, columns that's not int / float will be skipped\n",
    "From the printout df.head(5), it looks like StudentId, Age, hrsStudy and FinalGrade is int / float, but lets check\n",
    "\n"
   ]
  },
  {
   "cell_type": "code",
   "execution_count": 10,
   "metadata": {},
   "outputs": [
    {
     "name": "stdout",
     "output_type": "stream",
     "text": [
      "<class 'pandas.core.frame.DataFrame'>\n",
      "RangeIndex: 50 entries, 0 to 49\n",
      "Data columns (total 5 columns):\n",
      " #   Column      Non-Null Count  Dtype  \n",
      "---  ------      --------------  -----  \n",
      " 0   StudentID   50 non-null     int64  \n",
      " 1   Age         50 non-null     object \n",
      " 2   email       50 non-null     object \n",
      " 3   hrsStudy    50 non-null     object \n",
      " 4   FinalGrade  49 non-null     float64\n",
      "dtypes: float64(1), int64(1), object(3)\n",
      "memory usage: 2.1+ KB\n"
     ]
    }
   ],
   "source": [
    "df.info()"
   ]
  },
  {
   "cell_type": "markdown",
   "metadata": {},
   "source": [
    "Age, email, hrsStudy are Dtype(O) (object).. How did this happen? Lets take a look on all 50 rows "
   ]
  },
  {
   "cell_type": "code",
   "execution_count": 11,
   "metadata": {},
   "outputs": [
    {
     "data": {
      "text/html": [
       "<div>\n",
       "<style scoped>\n",
       "    .dataframe tbody tr th:only-of-type {\n",
       "        vertical-align: middle;\n",
       "    }\n",
       "\n",
       "    .dataframe tbody tr th {\n",
       "        vertical-align: top;\n",
       "    }\n",
       "\n",
       "    .dataframe thead th {\n",
       "        text-align: right;\n",
       "    }\n",
       "</style>\n",
       "<table border=\"1\" class=\"dataframe\">\n",
       "  <thead>\n",
       "    <tr style=\"text-align: right;\">\n",
       "      <th></th>\n",
       "      <th>StudentID</th>\n",
       "      <th>Age</th>\n",
       "      <th>email</th>\n",
       "      <th>hrsStudy</th>\n",
       "      <th>FinalGrade</th>\n",
       "    </tr>\n",
       "  </thead>\n",
       "  <tbody>\n",
       "    <tr>\n",
       "      <th>0</th>\n",
       "      <td>47412</td>\n",
       "      <td>20</td>\n",
       "      <td>s47412@oslomet.no</td>\n",
       "      <td>5</td>\n",
       "      <td>46.0</td>\n",
       "    </tr>\n",
       "    <tr>\n",
       "      <th>1</th>\n",
       "      <td>15077</td>\n",
       "      <td>22</td>\n",
       "      <td>s15077@oslomet.no</td>\n",
       "      <td>0</td>\n",
       "      <td>65.0</td>\n",
       "    </tr>\n",
       "    <tr>\n",
       "      <th>2</th>\n",
       "      <td>15467</td>\n",
       "      <td>27</td>\n",
       "      <td>s15467@oslomet.no</td>\n",
       "      <td>1</td>\n",
       "      <td>26.0</td>\n",
       "    </tr>\n",
       "    <tr>\n",
       "      <th>3</th>\n",
       "      <td>17907</td>\n",
       "      <td>21</td>\n",
       "      <td>s17907@oslomet.no</td>\n",
       "      <td>6</td>\n",
       "      <td>68.0</td>\n",
       "    </tr>\n",
       "    <tr>\n",
       "      <th>4</th>\n",
       "      <td>13352</td>\n",
       "      <td>333</td>\n",
       "      <td>s13352@oslomet.no</td>\n",
       "      <td>4</td>\n",
       "      <td>34.0</td>\n",
       "    </tr>\n",
       "    <tr>\n",
       "      <th>5</th>\n",
       "      <td>88403</td>\n",
       "      <td>29</td>\n",
       "      <td>s88403@oslomet.no</td>\n",
       "      <td>11</td>\n",
       "      <td>62.0</td>\n",
       "    </tr>\n",
       "    <tr>\n",
       "      <th>6</th>\n",
       "      <td>56387</td>\n",
       "      <td>32</td>\n",
       "      <td>s56387@oslomet.no</td>\n",
       "      <td>9</td>\n",
       "      <td>29.0</td>\n",
       "    </tr>\n",
       "    <tr>\n",
       "      <th>7</th>\n",
       "      <td>95648</td>\n",
       "      <td>23</td>\n",
       "      <td>s95648@oslomet.no</td>\n",
       "      <td>3</td>\n",
       "      <td>38.0</td>\n",
       "    </tr>\n",
       "    <tr>\n",
       "      <th>8</th>\n",
       "      <td>63176</td>\n",
       "      <td>20</td>\n",
       "      <td>s63176@oslomet.no</td>\n",
       "      <td>0</td>\n",
       "      <td>98.0</td>\n",
       "    </tr>\n",
       "    <tr>\n",
       "      <th>9</th>\n",
       "      <td>15406</td>\n",
       "      <td>31</td>\n",
       "      <td>s15406@oslomet.no</td>\n",
       "      <td>2</td>\n",
       "      <td>68.0</td>\n",
       "    </tr>\n",
       "    <tr>\n",
       "      <th>10</th>\n",
       "      <td>41908</td>\n",
       "      <td>24</td>\n",
       "      <td>s41908@oslomet.no</td>\n",
       "      <td>0</td>\n",
       "      <td>62.0</td>\n",
       "    </tr>\n",
       "    <tr>\n",
       "      <th>11</th>\n",
       "      <td>35600</td>\n",
       "      <td>30</td>\n",
       "      <td>s35600@oslomet.no</td>\n",
       "      <td>11</td>\n",
       "      <td>70.0</td>\n",
       "    </tr>\n",
       "    <tr>\n",
       "      <th>12</th>\n",
       "      <td>16171</td>\n",
       "      <td>25</td>\n",
       "      <td>s16171@oslomet.no</td>\n",
       "      <td>10</td>\n",
       "      <td>81.0</td>\n",
       "    </tr>\n",
       "    <tr>\n",
       "      <th>13</th>\n",
       "      <td>55586</td>\n",
       "      <td>24</td>\n",
       "      <td>s55586@oslomet.no</td>\n",
       "      <td>7</td>\n",
       "      <td>31.0</td>\n",
       "    </tr>\n",
       "    <tr>\n",
       "      <th>14</th>\n",
       "      <td>71505</td>\n",
       "      <td>23</td>\n",
       "      <td>s71505@oslomet.no</td>\n",
       "      <td>1</td>\n",
       "      <td>49.0</td>\n",
       "    </tr>\n",
       "    <tr>\n",
       "      <th>15</th>\n",
       "      <td>31235</td>\n",
       "      <td>33</td>\n",
       "      <td>s31235@oslomet.no</td>\n",
       "      <td>1</td>\n",
       "      <td>72.0</td>\n",
       "    </tr>\n",
       "    <tr>\n",
       "      <th>16</th>\n",
       "      <td>80811</td>\n",
       "      <td>21</td>\n",
       "      <td>s80811@oslomet.no</td>\n",
       "      <td>6</td>\n",
       "      <td>51.0</td>\n",
       "    </tr>\n",
       "    <tr>\n",
       "      <th>17</th>\n",
       "      <td>33041</td>\n",
       "      <td>21</td>\n",
       "      <td>s33041@oslomet.no</td>\n",
       "      <td>2</td>\n",
       "      <td>97.0</td>\n",
       "    </tr>\n",
       "    <tr>\n",
       "      <th>18</th>\n",
       "      <td>99823</td>\n",
       "      <td>23</td>\n",
       "      <td>s99823@oslomet.no</td>\n",
       "      <td>10</td>\n",
       "      <td>56.0</td>\n",
       "    </tr>\n",
       "    <tr>\n",
       "      <th>19</th>\n",
       "      <td>41092</td>\n",
       "      <td>33</td>\n",
       "      <td>s41092@oslomet.no</td>\n",
       "      <td>10</td>\n",
       "      <td>42.0</td>\n",
       "    </tr>\n",
       "    <tr>\n",
       "      <th>20</th>\n",
       "      <td>15976</td>\n",
       "      <td>32</td>\n",
       "      <td>s15976@oslomet.no</td>\n",
       "      <td>9</td>\n",
       "      <td>78.0</td>\n",
       "    </tr>\n",
       "    <tr>\n",
       "      <th>21</th>\n",
       "      <td>91520</td>\n",
       "      <td>33</td>\n",
       "      <td>s91520@oslomet.no</td>\n",
       "      <td>9</td>\n",
       "      <td>60.0</td>\n",
       "    </tr>\n",
       "    <tr>\n",
       "      <th>22</th>\n",
       "      <td>11758</td>\n",
       "      <td>33</td>\n",
       "      <td>s11758@oslomet.no</td>\n",
       "      <td>6</td>\n",
       "      <td>54.0</td>\n",
       "    </tr>\n",
       "    <tr>\n",
       "      <th>23</th>\n",
       "      <td>67086</td>\n",
       "      <td>22</td>\n",
       "      <td>s67086@oslomet.no</td>\n",
       "      <td>10</td>\n",
       "      <td>51.0</td>\n",
       "    </tr>\n",
       "    <tr>\n",
       "      <th>24</th>\n",
       "      <td>84127</td>\n",
       "      <td>20</td>\n",
       "      <td>s84127@oslomet.no</td>\n",
       "      <td>5</td>\n",
       "      <td>92.0</td>\n",
       "    </tr>\n",
       "    <tr>\n",
       "      <th>25</th>\n",
       "      <td>59109</td>\n",
       "      <td>32</td>\n",
       "      <td>s59109@oslomet.no</td>\n",
       "      <td>7</td>\n",
       "      <td>97.0</td>\n",
       "    </tr>\n",
       "    <tr>\n",
       "      <th>26</th>\n",
       "      <td>10736</td>\n",
       "      <td>2</td>\n",
       "      <td>s10736@oslomet.no</td>\n",
       "      <td>10</td>\n",
       "      <td>NaN</td>\n",
       "    </tr>\n",
       "    <tr>\n",
       "      <th>27</th>\n",
       "      <td>71581</td>\n",
       "      <td>25</td>\n",
       "      <td>s71581@oslomet.no</td>\n",
       "      <td>9</td>\n",
       "      <td>26.0</td>\n",
       "    </tr>\n",
       "    <tr>\n",
       "      <th>28</th>\n",
       "      <td>29254</td>\n",
       "      <td>22</td>\n",
       "      <td>s29254@oslomet.no</td>\n",
       "      <td>10</td>\n",
       "      <td>88.0</td>\n",
       "    </tr>\n",
       "    <tr>\n",
       "      <th>29</th>\n",
       "      <td>20161</td>\n",
       "      <td>22</td>\n",
       "      <td>s20161@oslomet.no</td>\n",
       "      <td>11</td>\n",
       "      <td>90.0</td>\n",
       "    </tr>\n",
       "    <tr>\n",
       "      <th>30</th>\n",
       "      <td>21523</td>\n",
       "      <td>31</td>\n",
       "      <td>s21523@oslomet.no</td>\n",
       "      <td></td>\n",
       "      <td>51.0</td>\n",
       "    </tr>\n",
       "    <tr>\n",
       "      <th>31</th>\n",
       "      <td>66815</td>\n",
       "      <td>21</td>\n",
       "      <td>s66815@oslomet.no</td>\n",
       "      <td>8</td>\n",
       "      <td>35.0</td>\n",
       "    </tr>\n",
       "    <tr>\n",
       "      <th>32</th>\n",
       "      <td>26914</td>\n",
       "      <td>31</td>\n",
       "      <td>s26914@oslomet.no</td>\n",
       "      <td>9</td>\n",
       "      <td>93.0</td>\n",
       "    </tr>\n",
       "    <tr>\n",
       "      <th>33</th>\n",
       "      <td>58153</td>\n",
       "      <td>220</td>\n",
       "      <td>s58153@oslomet.no</td>\n",
       "      <td>10</td>\n",
       "      <td>35.0</td>\n",
       "    </tr>\n",
       "    <tr>\n",
       "      <th>34</th>\n",
       "      <td>58387</td>\n",
       "      <td>20</td>\n",
       "      <td>s58387@oslomet.no</td>\n",
       "      <td>9</td>\n",
       "      <td>673.0</td>\n",
       "    </tr>\n",
       "    <tr>\n",
       "      <th>35</th>\n",
       "      <td>44561</td>\n",
       "      <td>28</td>\n",
       "      <td>s44561@oslomet.no</td>\n",
       "      <td>10</td>\n",
       "      <td>78.0</td>\n",
       "    </tr>\n",
       "    <tr>\n",
       "      <th>36</th>\n",
       "      <td>84163</td>\n",
       "      <td>25</td>\n",
       "      <td>s84163@oslomet.no</td>\n",
       "      <td>7</td>\n",
       "      <td>71.0</td>\n",
       "    </tr>\n",
       "    <tr>\n",
       "      <th>37</th>\n",
       "      <td>26584</td>\n",
       "      <td>27</td>\n",
       "      <td>s26584@oslomet.no</td>\n",
       "      <td>10</td>\n",
       "      <td>31.0</td>\n",
       "    </tr>\n",
       "    <tr>\n",
       "      <th>38</th>\n",
       "      <td>74289</td>\n",
       "      <td>31</td>\n",
       "      <td>s74289@oslomet.no</td>\n",
       "      <td>6</td>\n",
       "      <td>45.0</td>\n",
       "    </tr>\n",
       "    <tr>\n",
       "      <th>39</th>\n",
       "      <td>30158</td>\n",
       "      <td>21</td>\n",
       "      <td>s30158@oslomet.no</td>\n",
       "      <td>3</td>\n",
       "      <td>37.0</td>\n",
       "    </tr>\n",
       "    <tr>\n",
       "      <th>40</th>\n",
       "      <td>25452</td>\n",
       "      <td>24</td>\n",
       "      <td>s25452@oslomet.no</td>\n",
       "      <td>10</td>\n",
       "      <td>41.0</td>\n",
       "    </tr>\n",
       "    <tr>\n",
       "      <th>41</th>\n",
       "      <td>92390</td>\n",
       "      <td></td>\n",
       "      <td>s92390@oslomet.no</td>\n",
       "      <td>2</td>\n",
       "      <td>35.0</td>\n",
       "    </tr>\n",
       "    <tr>\n",
       "      <th>42</th>\n",
       "      <td>83390</td>\n",
       "      <td>22</td>\n",
       "      <td>s83390@oslomet.no</td>\n",
       "      <td>7</td>\n",
       "      <td>88.0</td>\n",
       "    </tr>\n",
       "    <tr>\n",
       "      <th>43</th>\n",
       "      <td>32946</td>\n",
       "      <td>31</td>\n",
       "      <td>s32946@oslomet.no</td>\n",
       "      <td>10</td>\n",
       "      <td>24.0</td>\n",
       "    </tr>\n",
       "    <tr>\n",
       "      <th>44</th>\n",
       "      <td>44023</td>\n",
       "      <td>31</td>\n",
       "      <td>s44023@oslomet.no</td>\n",
       "      <td>6</td>\n",
       "      <td>83.0</td>\n",
       "    </tr>\n",
       "    <tr>\n",
       "      <th>45</th>\n",
       "      <td>62039</td>\n",
       "      <td>23</td>\n",
       "      <td>s62039@oslomet.no</td>\n",
       "      <td>4</td>\n",
       "      <td>46.0</td>\n",
       "    </tr>\n",
       "    <tr>\n",
       "      <th>46</th>\n",
       "      <td>42989</td>\n",
       "      <td>27</td>\n",
       "      <td>s42989@oslomet.no</td>\n",
       "      <td>0</td>\n",
       "      <td>80.0</td>\n",
       "    </tr>\n",
       "    <tr>\n",
       "      <th>47</th>\n",
       "      <td>85370</td>\n",
       "      <td>29</td>\n",
       "      <td>s85370@oslomet.no</td>\n",
       "      <td>2</td>\n",
       "      <td>77.0</td>\n",
       "    </tr>\n",
       "    <tr>\n",
       "      <th>48</th>\n",
       "      <td>63135</td>\n",
       "      <td>26</td>\n",
       "      <td>s63135@oslomet.no</td>\n",
       "      <td>9</td>\n",
       "      <td>39.0</td>\n",
       "    </tr>\n",
       "    <tr>\n",
       "      <th>49</th>\n",
       "      <td>28895</td>\n",
       "      <td>19</td>\n",
       "      <td>s28895@oslomet.no</td>\n",
       "      <td>10</td>\n",
       "      <td>68.0</td>\n",
       "    </tr>\n",
       "  </tbody>\n",
       "</table>\n",
       "</div>"
      ],
      "text/plain": [
       "    StudentID  Age              email hrsStudy  FinalGrade\n",
       "0       47412   20  s47412@oslomet.no        5        46.0\n",
       "1       15077   22  s15077@oslomet.no        0        65.0\n",
       "2       15467   27  s15467@oslomet.no        1        26.0\n",
       "3       17907   21  s17907@oslomet.no        6        68.0\n",
       "4       13352  333  s13352@oslomet.no        4        34.0\n",
       "5       88403   29  s88403@oslomet.no       11        62.0\n",
       "6       56387   32  s56387@oslomet.no        9        29.0\n",
       "7       95648   23  s95648@oslomet.no        3        38.0\n",
       "8       63176   20  s63176@oslomet.no        0        98.0\n",
       "9       15406   31  s15406@oslomet.no        2        68.0\n",
       "10      41908   24  s41908@oslomet.no        0        62.0\n",
       "11      35600   30  s35600@oslomet.no       11        70.0\n",
       "12      16171   25  s16171@oslomet.no       10        81.0\n",
       "13      55586   24  s55586@oslomet.no        7        31.0\n",
       "14      71505   23  s71505@oslomet.no        1        49.0\n",
       "15      31235   33  s31235@oslomet.no        1        72.0\n",
       "16      80811   21  s80811@oslomet.no        6        51.0\n",
       "17      33041   21  s33041@oslomet.no        2        97.0\n",
       "18      99823   23  s99823@oslomet.no       10        56.0\n",
       "19      41092   33  s41092@oslomet.no       10        42.0\n",
       "20      15976   32  s15976@oslomet.no        9        78.0\n",
       "21      91520   33  s91520@oslomet.no        9        60.0\n",
       "22      11758   33  s11758@oslomet.no        6        54.0\n",
       "23      67086   22  s67086@oslomet.no       10        51.0\n",
       "24      84127   20  s84127@oslomet.no        5        92.0\n",
       "25      59109   32  s59109@oslomet.no        7        97.0\n",
       "26      10736    2  s10736@oslomet.no       10         NaN\n",
       "27      71581   25  s71581@oslomet.no        9        26.0\n",
       "28      29254   22  s29254@oslomet.no       10        88.0\n",
       "29      20161   22  s20161@oslomet.no       11        90.0\n",
       "30      21523   31  s21523@oslomet.no                 51.0\n",
       "31      66815   21  s66815@oslomet.no        8        35.0\n",
       "32      26914   31  s26914@oslomet.no        9        93.0\n",
       "33      58153  220  s58153@oslomet.no       10        35.0\n",
       "34      58387   20  s58387@oslomet.no        9       673.0\n",
       "35      44561   28  s44561@oslomet.no       10        78.0\n",
       "36      84163   25  s84163@oslomet.no        7        71.0\n",
       "37      26584   27  s26584@oslomet.no       10        31.0\n",
       "38      74289   31  s74289@oslomet.no        6        45.0\n",
       "39      30158   21  s30158@oslomet.no        3        37.0\n",
       "40      25452   24  s25452@oslomet.no       10        41.0\n",
       "41      92390       s92390@oslomet.no        2        35.0\n",
       "42      83390   22  s83390@oslomet.no        7        88.0\n",
       "43      32946   31  s32946@oslomet.no       10        24.0\n",
       "44      44023   31  s44023@oslomet.no        6        83.0\n",
       "45      62039   23  s62039@oslomet.no        4        46.0\n",
       "46      42989   27  s42989@oslomet.no        0        80.0\n",
       "47      85370   29  s85370@oslomet.no        2        77.0\n",
       "48      63135   26  s63135@oslomet.no        9        39.0\n",
       "49      28895   19  s28895@oslomet.no       10        68.0"
      ]
     },
     "execution_count": 11,
     "metadata": {},
     "output_type": "execute_result"
    }
   ],
   "source": [
    "df"
   ]
  },
  {
   "cell_type": "markdown",
   "metadata": {},
   "source": [
    "As you can see, row 30 and 41 have missing values. So for us to convert the columns into int type, we need to decide \n",
    "what we want to do with them.\n",
    "1. Delete the row ( this could be a good solution if we have a big dataset or we need to have reliable data)\n",
    "2. Fill the empty value with a dummy value\n",
    "Lets say that \"Age\" isen't to important, and we decide to fill empty values with 0,\n",
    "but we don't want to fill dummy data for hrsStudy, so we will delete rows with empty data here\n"
   ]
  },
  {
   "cell_type": "code",
   "execution_count": 12,
   "metadata": {},
   "outputs": [
    {
     "data": {
      "text/plain": [
       "StudentID     0\n",
       "Age           0\n",
       "email         0\n",
       "hrsStudy      0\n",
       "FinalGrade    1\n",
       "dtype: int64"
      ]
     },
     "execution_count": 12,
     "metadata": {},
     "output_type": "execute_result"
    }
   ],
   "source": [
    "#lets see how many empty cells we got\n",
    "df.isna().sum()"
   ]
  },
  {
   "cell_type": "markdown",
   "metadata": {},
   "source": [
    "This can't be correct, we have seen that we have at least 1 empty cell in both Age and hrsStudy.. Lets fix this by using np.nan"
   ]
  },
  {
   "cell_type": "code",
   "execution_count": 13,
   "metadata": {},
   "outputs": [
    {
     "data": {
      "text/plain": [
       "StudentID     0\n",
       "Age           1\n",
       "email         0\n",
       "hrsStudy      1\n",
       "FinalGrade    1\n",
       "dtype: int64"
      ]
     },
     "execution_count": 13,
     "metadata": {},
     "output_type": "execute_result"
    }
   ],
   "source": [
    "#Lets first replace all empty cells wit np.nan\n",
    "df=df.replace(r'^\\s*$', np.nan, regex=True)\n",
    "#and check again\n",
    "df.isna().sum()"
   ]
  },
  {
   "cell_type": "code",
   "execution_count": 14,
   "metadata": {},
   "outputs": [],
   "source": [
    "#When dealing with missing values, we need to make to figure out if we can replace data\n",
    "#with dummy values. Lets say Age isn't too important in this dataset, and we can replace missing\n",
    "#age values with 0\n",
    "\n",
    "df[\"Age\"].replace(np.nan, 0, inplace=True)\n",
    "#df = df['Age'].astype(str).astype(int)"
   ]
  },
  {
   "cell_type": "code",
   "execution_count": 15,
   "metadata": {},
   "outputs": [
    {
     "data": {
      "text/plain": [
       "StudentID     0\n",
       "Age           0\n",
       "email         0\n",
       "hrsStudy      1\n",
       "FinalGrade    1\n",
       "dtype: int64"
      ]
     },
     "execution_count": 15,
     "metadata": {},
     "output_type": "execute_result"
    }
   ],
   "source": [
    "df.isna().sum()"
   ]
  },
  {
   "cell_type": "code",
   "execution_count": 16,
   "metadata": {},
   "outputs": [
    {
     "data": {
      "text/plain": [
       "StudentID     0\n",
       "Age           0\n",
       "email         0\n",
       "hrsStudy      0\n",
       "FinalGrade    0\n",
       "dtype: int64"
      ]
     },
     "execution_count": 16,
     "metadata": {},
     "output_type": "execute_result"
    }
   ],
   "source": [
    "#Since we believe the rest of the columns contains important data, we won't replace nan values with dummy data\n",
    "#We will therefor delete rows containing nan data\n",
    "df.dropna(inplace = True)\n",
    "# inplace = True updates the df with the new data, alternative you can do df = df.dropna() or Newdf = df.dropna()\n",
    "#And lets check again\n",
    "df.isna().sum()"
   ]
  },
  {
   "cell_type": "code",
   "execution_count": 17,
   "metadata": {},
   "outputs": [],
   "source": [
    "#A easy way to convert object to int, is through sting, so we convert all values to strings, then ints\n",
    "df['Age'] = df['Age'].astype(str).astype(int)\n",
    "df['hrsStudy'] = df['hrsStudy'].astype(str).astype(int)"
   ]
  },
  {
   "cell_type": "code",
   "execution_count": 18,
   "metadata": {},
   "outputs": [
    {
     "name": "stdout",
     "output_type": "stream",
     "text": [
      "<class 'pandas.core.frame.DataFrame'>\n",
      "Int64Index: 48 entries, 0 to 49\n",
      "Data columns (total 5 columns):\n",
      " #   Column      Non-Null Count  Dtype  \n",
      "---  ------      --------------  -----  \n",
      " 0   StudentID   48 non-null     int64  \n",
      " 1   Age         48 non-null     int32  \n",
      " 2   email       48 non-null     object \n",
      " 3   hrsStudy    48 non-null     int32  \n",
      " 4   FinalGrade  48 non-null     float64\n",
      "dtypes: float64(1), int32(2), int64(1), object(1)\n",
      "memory usage: 1.9+ KB\n"
     ]
    },
    {
     "data": {
      "text/html": [
       "<div>\n",
       "<style scoped>\n",
       "    .dataframe tbody tr th:only-of-type {\n",
       "        vertical-align: middle;\n",
       "    }\n",
       "\n",
       "    .dataframe tbody tr th {\n",
       "        vertical-align: top;\n",
       "    }\n",
       "\n",
       "    .dataframe thead th {\n",
       "        text-align: right;\n",
       "    }\n",
       "</style>\n",
       "<table border=\"1\" class=\"dataframe\">\n",
       "  <thead>\n",
       "    <tr style=\"text-align: right;\">\n",
       "      <th></th>\n",
       "      <th>StudentID</th>\n",
       "      <th>Age</th>\n",
       "      <th>hrsStudy</th>\n",
       "      <th>FinalGrade</th>\n",
       "    </tr>\n",
       "  </thead>\n",
       "  <tbody>\n",
       "    <tr>\n",
       "      <th>count</th>\n",
       "      <td>48.000000</td>\n",
       "      <td>48.000000</td>\n",
       "      <td>48.000000</td>\n",
       "      <td>48.000000</td>\n",
       "    </tr>\n",
       "    <tr>\n",
       "      <th>mean</th>\n",
       "      <td>50338.166667</td>\n",
       "      <td>35.666667</td>\n",
       "      <td>6.395833</td>\n",
       "      <td>72.083333</td>\n",
       "    </tr>\n",
       "    <tr>\n",
       "      <th>std</th>\n",
       "      <td>26526.981827</td>\n",
       "      <td>52.388619</td>\n",
       "      <td>3.648022</td>\n",
       "      <td>91.362461</td>\n",
       "    </tr>\n",
       "    <tr>\n",
       "      <th>min</th>\n",
       "      <td>11758.000000</td>\n",
       "      <td>0.000000</td>\n",
       "      <td>0.000000</td>\n",
       "      <td>24.000000</td>\n",
       "    </tr>\n",
       "    <tr>\n",
       "      <th>25%</th>\n",
       "      <td>28399.750000</td>\n",
       "      <td>22.000000</td>\n",
       "      <td>3.000000</td>\n",
       "      <td>38.750000</td>\n",
       "    </tr>\n",
       "    <tr>\n",
       "      <th>50%</th>\n",
       "      <td>45986.500000</td>\n",
       "      <td>25.000000</td>\n",
       "      <td>7.000000</td>\n",
       "      <td>61.000000</td>\n",
       "    </tr>\n",
       "    <tr>\n",
       "      <th>75%</th>\n",
       "      <td>71524.000000</td>\n",
       "      <td>31.000000</td>\n",
       "      <td>10.000000</td>\n",
       "      <td>78.500000</td>\n",
       "    </tr>\n",
       "    <tr>\n",
       "      <th>max</th>\n",
       "      <td>99823.000000</td>\n",
       "      <td>333.000000</td>\n",
       "      <td>11.000000</td>\n",
       "      <td>673.000000</td>\n",
       "    </tr>\n",
       "  </tbody>\n",
       "</table>\n",
       "</div>"
      ],
      "text/plain": [
       "          StudentID         Age   hrsStudy  FinalGrade\n",
       "count     48.000000   48.000000  48.000000   48.000000\n",
       "mean   50338.166667   35.666667   6.395833   72.083333\n",
       "std    26526.981827   52.388619   3.648022   91.362461\n",
       "min    11758.000000    0.000000   0.000000   24.000000\n",
       "25%    28399.750000   22.000000   3.000000   38.750000\n",
       "50%    45986.500000   25.000000   7.000000   61.000000\n",
       "75%    71524.000000   31.000000  10.000000   78.500000\n",
       "max    99823.000000  333.000000  11.000000  673.000000"
      ]
     },
     "execution_count": 18,
     "metadata": {},
     "output_type": "execute_result"
    }
   ],
   "source": [
    "#So lets see then..\n",
    "df.info()\n",
    "df.describe()"
   ]
  },
  {
   "cell_type": "markdown",
   "metadata": {},
   "source": [
    "If your dataset is complete, you won't have to do all this, but its always smart to check that you get the expected datatypes when reading a file\n",
    "\n",
    "Converting values from int to float can be done by\n",
    "df[list(\"Age\")] = df[list(\"Age\")].astype(float)"
   ]
  },
  {
   "cell_type": "code",
   "execution_count": 19,
   "metadata": {},
   "outputs": [
    {
     "data": {
      "text/plain": [
       "<AxesSubplot:>"
      ]
     },
     "execution_count": 19,
     "metadata": {},
     "output_type": "execute_result"
    },
    {
     "data": {
      "image/png": "[encoded data removed]",
      "text/plain": [
       "<Figure size 432x288 with 1 Axes>"
      ]
     },
     "metadata": {
      "needs_background": "light"
     },
     "output_type": "display_data"
    }
   ],
   "source": [
    "#We can now start to look for values that might be wrong.\n",
    "#An example for FinalGrade, we see from df.describe() that the max value is 673, this is clearly wrong\n",
    "#A way to visualize this is to do a plot\n",
    "\n",
    "df[\"FinalGrade\"].plot.line()\n"
   ]
  },
  {
   "cell_type": "code",
   "execution_count": 20,
   "metadata": {},
   "outputs": [
    {
     "data": {
      "text/plain": [
       "<AxesSubplot:>"
      ]
     },
     "execution_count": 20,
     "metadata": {},
     "output_type": "execute_result"
    },
    {
     "data": {
      "image/png": "[encoded data removed]",
      "text/plain": [
       "<Figure size 432x288 with 1 Axes>"
      ]
     },
     "metadata": {
      "needs_background": "light"
     },
     "output_type": "display_data"
    }
   ],
   "source": [
    "df[\"FinalGrade\"].plot.box()"
   ]
  },
  {
   "cell_type": "code",
   "execution_count": 21,
   "metadata": {},
   "outputs": [],
   "source": [
    "#We will look closer at removing outliers later, but we can remove them using the scipy package\n",
    "#Calculate the z score\n",
    "z_scores = stats.zscore(df[\"FinalGrade\"])\n",
    "abs_z_scores = np.abs(z_scores)\n"
   ]
  },
  {
   "cell_type": "code",
   "execution_count": 22,
   "metadata": {},
   "outputs": [],
   "source": [
    "#And drop all rows in the third quantile\n",
    "df.drop(df[abs_z_scores > 3].index, inplace=True)"
   ]
  },
  {
   "cell_type": "code",
   "execution_count": 23,
   "metadata": {},
   "outputs": [
    {
     "data": {
      "text/plain": [
       "<AxesSubplot:>"
      ]
     },
     "execution_count": 23,
     "metadata": {},
     "output_type": "execute_result"
    },
    {
     "data": {
      "image/png": "[encoded data removed]",
      "text/plain": [
       "<Figure size 432x288 with 1 Axes>"
      ]
     },
     "metadata": {
      "needs_background": "light"
     },
     "output_type": "display_data"
    }
   ],
   "source": [
    "#Checking the column again to see if outliers are gone..\n",
    "df[\"FinalGrade\"].plot.box()"
   ]
  },
  {
   "cell_type": "code",
   "execution_count": 24,
   "metadata": {},
   "outputs": [
    {
     "data": {
      "text/html": [
       "<div>\n",
       "<style scoped>\n",
       "    .dataframe tbody tr th:only-of-type {\n",
       "        vertical-align: middle;\n",
       "    }\n",
       "\n",
       "    .dataframe tbody tr th {\n",
       "        vertical-align: top;\n",
       "    }\n",
       "\n",
       "    .dataframe thead th {\n",
       "        text-align: right;\n",
       "    }\n",
       "</style>\n",
       "<table border=\"1\" class=\"dataframe\">\n",
       "  <thead>\n",
       "    <tr style=\"text-align: right;\">\n",
       "      <th></th>\n",
       "      <th>StudentID</th>\n",
       "      <th>Age</th>\n",
       "      <th>email</th>\n",
       "      <th>hrsStudy</th>\n",
       "      <th>FinalGrade</th>\n",
       "    </tr>\n",
       "  </thead>\n",
       "  <tbody>\n",
       "    <tr>\n",
       "      <th>45</th>\n",
       "      <td>62039</td>\n",
       "      <td>23</td>\n",
       "      <td>s62039@oslomet.no</td>\n",
       "      <td>4</td>\n",
       "      <td>46.0</td>\n",
       "    </tr>\n",
       "    <tr>\n",
       "      <th>46</th>\n",
       "      <td>42989</td>\n",
       "      <td>27</td>\n",
       "      <td>s42989@oslomet.no</td>\n",
       "      <td>0</td>\n",
       "      <td>80.0</td>\n",
       "    </tr>\n",
       "    <tr>\n",
       "      <th>47</th>\n",
       "      <td>85370</td>\n",
       "      <td>29</td>\n",
       "      <td>s85370@oslomet.no</td>\n",
       "      <td>2</td>\n",
       "      <td>77.0</td>\n",
       "    </tr>\n",
       "    <tr>\n",
       "      <th>48</th>\n",
       "      <td>63135</td>\n",
       "      <td>26</td>\n",
       "      <td>s63135@oslomet.no</td>\n",
       "      <td>9</td>\n",
       "      <td>39.0</td>\n",
       "    </tr>\n",
       "    <tr>\n",
       "      <th>49</th>\n",
       "      <td>28895</td>\n",
       "      <td>19</td>\n",
       "      <td>s28895@oslomet.no</td>\n",
       "      <td>10</td>\n",
       "      <td>68.0</td>\n",
       "    </tr>\n",
       "  </tbody>\n",
       "</table>\n",
       "</div>"
      ],
      "text/plain": [
       "    StudentID  Age              email  hrsStudy  FinalGrade\n",
       "45      62039   23  s62039@oslomet.no         4        46.0\n",
       "46      42989   27  s42989@oslomet.no         0        80.0\n",
       "47      85370   29  s85370@oslomet.no         2        77.0\n",
       "48      63135   26  s63135@oslomet.no         9        39.0\n",
       "49      28895   19  s28895@oslomet.no        10        68.0"
      ]
     },
     "execution_count": 24,
     "metadata": {},
     "output_type": "execute_result"
    }
   ],
   "source": [
    "#Lets take a look at the end of our dataframe..\n",
    "df.tail(5)\n"
   ]
  },
  {
   "cell_type": "code",
   "execution_count": 25,
   "metadata": {},
   "outputs": [
    {
     "data": {
      "text/html": [
       "<div>\n",
       "<style scoped>\n",
       "    .dataframe tbody tr th:only-of-type {\n",
       "        vertical-align: middle;\n",
       "    }\n",
       "\n",
       "    .dataframe tbody tr th {\n",
       "        vertical-align: top;\n",
       "    }\n",
       "\n",
       "    .dataframe thead th {\n",
       "        text-align: right;\n",
       "    }\n",
       "</style>\n",
       "<table border=\"1\" class=\"dataframe\">\n",
       "  <thead>\n",
       "    <tr style=\"text-align: right;\">\n",
       "      <th></th>\n",
       "      <th>StudentID</th>\n",
       "      <th>Age</th>\n",
       "      <th>email</th>\n",
       "      <th>hrsStudy</th>\n",
       "      <th>FinalGrade</th>\n",
       "    </tr>\n",
       "  </thead>\n",
       "  <tbody>\n",
       "    <tr>\n",
       "      <th>42</th>\n",
       "      <td>62039</td>\n",
       "      <td>23</td>\n",
       "      <td>s62039@oslomet.no</td>\n",
       "      <td>4</td>\n",
       "      <td>46.0</td>\n",
       "    </tr>\n",
       "    <tr>\n",
       "      <th>43</th>\n",
       "      <td>42989</td>\n",
       "      <td>27</td>\n",
       "      <td>s42989@oslomet.no</td>\n",
       "      <td>0</td>\n",
       "      <td>80.0</td>\n",
       "    </tr>\n",
       "    <tr>\n",
       "      <th>44</th>\n",
       "      <td>85370</td>\n",
       "      <td>29</td>\n",
       "      <td>s85370@oslomet.no</td>\n",
       "      <td>2</td>\n",
       "      <td>77.0</td>\n",
       "    </tr>\n",
       "    <tr>\n",
       "      <th>45</th>\n",
       "      <td>63135</td>\n",
       "      <td>26</td>\n",
       "      <td>s63135@oslomet.no</td>\n",
       "      <td>9</td>\n",
       "      <td>39.0</td>\n",
       "    </tr>\n",
       "    <tr>\n",
       "      <th>46</th>\n",
       "      <td>28895</td>\n",
       "      <td>19</td>\n",
       "      <td>s28895@oslomet.no</td>\n",
       "      <td>10</td>\n",
       "      <td>68.0</td>\n",
       "    </tr>\n",
       "  </tbody>\n",
       "</table>\n",
       "</div>"
      ],
      "text/plain": [
       "    StudentID  Age              email  hrsStudy  FinalGrade\n",
       "42      62039   23  s62039@oslomet.no         4        46.0\n",
       "43      42989   27  s42989@oslomet.no         0        80.0\n",
       "44      85370   29  s85370@oslomet.no         2        77.0\n",
       "45      63135   26  s63135@oslomet.no         9        39.0\n",
       "46      28895   19  s28895@oslomet.no        10        68.0"
      ]
     },
     "execution_count": 25,
     "metadata": {},
     "output_type": "execute_result"
    }
   ],
   "source": [
    "#As you can see, the index counts to 49, but we have dropped several values.. to reset the index you can use\n",
    "df = df.reset_index(drop=True)\n",
    "df.tail(5)"
   ]
  },
  {
   "cell_type": "markdown",
   "metadata": {},
   "source": [
    "# Lets add a collumn where we translate the numeric grade to a A-F scale"
   ]
  },
  {
   "cell_type": "code",
   "execution_count": 26,
   "metadata": {},
   "outputs": [
    {
     "data": {
      "text/html": [
       "<div>\n",
       "<style scoped>\n",
       "    .dataframe tbody tr th:only-of-type {\n",
       "        vertical-align: middle;\n",
       "    }\n",
       "\n",
       "    .dataframe tbody tr th {\n",
       "        vertical-align: top;\n",
       "    }\n",
       "\n",
       "    .dataframe thead th {\n",
       "        text-align: right;\n",
       "    }\n",
       "</style>\n",
       "<table border=\"1\" class=\"dataframe\">\n",
       "  <thead>\n",
       "    <tr style=\"text-align: right;\">\n",
       "      <th></th>\n",
       "      <th>StudentID</th>\n",
       "      <th>Age</th>\n",
       "      <th>email</th>\n",
       "      <th>hrsStudy</th>\n",
       "      <th>FinalGrade</th>\n",
       "      <th>Grade</th>\n",
       "    </tr>\n",
       "  </thead>\n",
       "  <tbody>\n",
       "    <tr>\n",
       "      <th>0</th>\n",
       "      <td>47412</td>\n",
       "      <td>20</td>\n",
       "      <td>s47412@oslomet.no</td>\n",
       "      <td>5</td>\n",
       "      <td>46.0</td>\n",
       "      <td>F</td>\n",
       "    </tr>\n",
       "    <tr>\n",
       "      <th>1</th>\n",
       "      <td>15077</td>\n",
       "      <td>22</td>\n",
       "      <td>s15077@oslomet.no</td>\n",
       "      <td>0</td>\n",
       "      <td>65.0</td>\n",
       "      <td>D</td>\n",
       "    </tr>\n",
       "    <tr>\n",
       "      <th>2</th>\n",
       "      <td>15467</td>\n",
       "      <td>27</td>\n",
       "      <td>s15467@oslomet.no</td>\n",
       "      <td>1</td>\n",
       "      <td>26.0</td>\n",
       "      <td>F</td>\n",
       "    </tr>\n",
       "    <tr>\n",
       "      <th>3</th>\n",
       "      <td>17907</td>\n",
       "      <td>21</td>\n",
       "      <td>s17907@oslomet.no</td>\n",
       "      <td>6</td>\n",
       "      <td>68.0</td>\n",
       "      <td>D</td>\n",
       "    </tr>\n",
       "    <tr>\n",
       "      <th>4</th>\n",
       "      <td>13352</td>\n",
       "      <td>333</td>\n",
       "      <td>s13352@oslomet.no</td>\n",
       "      <td>4</td>\n",
       "      <td>34.0</td>\n",
       "      <td>F</td>\n",
       "    </tr>\n",
       "  </tbody>\n",
       "</table>\n",
       "</div>"
      ],
      "text/plain": [
       "   StudentID  Age              email  hrsStudy  FinalGrade Grade\n",
       "0      47412   20  s47412@oslomet.no         5        46.0     F\n",
       "1      15077   22  s15077@oslomet.no         0        65.0     D\n",
       "2      15467   27  s15467@oslomet.no         1        26.0     F\n",
       "3      17907   21  s17907@oslomet.no         6        68.0     D\n",
       "4      13352  333  s13352@oslomet.no         4        34.0     F"
      ]
     },
     "execution_count": 26,
     "metadata": {},
     "output_type": "execute_result"
    }
   ],
   "source": [
    "# create a list of our conditions\n",
    "conditions = [\n",
    "    (df['FinalGrade'] <= 50.0),\n",
    "    (df['FinalGrade'] > 50.0) & (df['FinalGrade'] <= 60.0),\n",
    "    (df['FinalGrade'] > 60.0) & (df['FinalGrade'] <= 70.0),\n",
    "    (df['FinalGrade'] > 70.0) & (df['FinalGrade'] <= 80.0),\n",
    "    (df['FinalGrade'] > 80.0) & (df['FinalGrade'] <= 90.0),\n",
    "    (df['FinalGrade'] > 90.0)\n",
    "    ]\n",
    "\n",
    "# create a list of the values we want to assign for each condition\n",
    "values = ['F', 'E', 'D', 'C', 'B', 'A']\n",
    "\n",
    "# create a new column and use np.select to assign values to it using our lists as arguments\n",
    "df['Grade'] = np.select(conditions, values)\n",
    "\n",
    "# display updated DataFrame\n",
    "df.head()"
   ]
  },
  {
   "cell_type": "code",
   "execution_count": 27,
   "metadata": {},
   "outputs": [],
   "source": [
    "#We can now see how many got the different grades by using groupby\n",
    "df_gradeCount = df.groupby('Grade').count()"
   ]
  },
  {
   "cell_type": "code",
   "execution_count": 28,
   "metadata": {},
   "outputs": [
    {
     "data": {
      "text/plain": [
       "Grade\n",
       "A     5\n",
       "B     5\n",
       "C     6\n",
       "D     7\n",
       "E     5\n",
       "F    19\n",
       "Name: FinalGrade, dtype: int64"
      ]
     },
     "execution_count": 28,
     "metadata": {},
     "output_type": "execute_result"
    }
   ],
   "source": [
    "df_gradeCount.FinalGrade\n"
   ]
  },
  {
   "cell_type": "code",
   "execution_count": 29,
   "metadata": {},
   "outputs": [
    {
     "data": {
      "text/plain": [
       "<AxesSubplot:xlabel='Grade'>"
      ]
     },
     "execution_count": 29,
     "metadata": {},
     "output_type": "execute_result"
    },
    {
     "data": {
      "image/png": "[encoded data removed]",
      "text/plain": [
       "<Figure size 432x288 with 1 Axes>"
      ]
     },
     "metadata": {
      "needs_background": "light"
     },
     "output_type": "display_data"
    }
   ],
   "source": [
    "#And plot a barplot of the data\n",
    "\n",
    "df_gradeCount[\"FinalGrade\"].plot.bar()"
   ]
  },
  {
   "cell_type": "markdown",
   "metadata": {},
   "source": [
    "Lets have a quick look at some other plots as well"
   ]
  },
  {
   "cell_type": "code",
   "execution_count": 30,
   "metadata": {},
   "outputs": [
    {
     "data": {
      "text/plain": [
       "<AxesSubplot:xlabel='Age', ylabel='Grade'>"
      ]
     },
     "execution_count": 30,
     "metadata": {},
     "output_type": "execute_result"
    },
    {
     "data": {
      "image/png": "[encoded data removed]",
      "text/plain": [
       "<Figure size 432x288 with 1 Axes>"
      ]
     },
     "metadata": {
      "needs_background": "light"
     },
     "output_type": "display_data"
    }
   ],
   "source": [
    "df.plot.scatter(x = 'Age', y = 'Grade', s = 100)"
   ]
  },
  {
   "cell_type": "code",
   "execution_count": 31,
   "metadata": {},
   "outputs": [
    {
     "data": {
      "text/plain": [
       "<AxesSubplot:xlabel='Age', ylabel='Grade'>"
      ]
     },
     "execution_count": 31,
     "metadata": {},
     "output_type": "execute_result"
    },
    {
     "data": {
      "image/png": "[encoded data removed]",
      "text/plain": [
       "<Figure size 432x288 with 1 Axes>"
      ]
     },
     "metadata": {
      "needs_background": "light"
     },
     "output_type": "display_data"
    }
   ],
   "source": [
    "#Lets just remove the two outliers for a nicer plot.\n",
    "z_scores = stats.zscore(df[\"Age\"])\n",
    "abs_z_scores = np.abs(z_scores)\n",
    "df.drop(df[abs_z_scores > 3].index, inplace=True)\n",
    "df.plot.scatter(x = 'Age', y = 'Grade', s = 100)"
   ]
  },
  {
   "cell_type": "code",
   "execution_count": 32,
   "metadata": {},
   "outputs": [
    {
     "data": {
      "text/plain": [
       "<AxesSubplot:ylabel='Frequency'>"
      ]
     },
     "execution_count": 32,
     "metadata": {},
     "output_type": "execute_result"
    },
    {
     "data": {
      "image/png": "[encoded data removed]",
      "text/plain": [
       "<Figure size 432x288 with 1 Axes>"
      ]
     },
     "metadata": {
      "needs_background": "light"
     },
     "output_type": "display_data"
    }
   ],
   "source": [
    "df[\"Age\"].plot.hist(alpha=0.5)"
   ]
  },
  {
   "cell_type": "code",
   "execution_count": 40,
   "metadata": {},
   "outputs": [
    {
     "name": "stderr",
     "output_type": "stream",
     "text": [
      "D:\\Programering\\Programmer\\Anaconda\\envs\\dave3625\\lib\\site-packages\\pandas\\plotting\\_matplotlib\\core.py:1235: UserWarning: FixedFormatter should only be used together with FixedLocator\n",
      "  ax.set_xticklabels(xticklabels)\n"
     ]
    },
    {
     "data": {
      "text/plain": [
       "<AxesSubplot:xlabel='Grade'>"
      ]
     },
     "execution_count": 40,
     "metadata": {},
     "output_type": "execute_result"
    },
    {
     "data": {
      "image/png": "[encoded data removed]",
      "text/plain": [
       "<Figure size 432x288 with 1 Axes>"
      ]
     },
     "metadata": {
      "needs_background": "light"
     },
     "output_type": "display_data"
    }
   ],
   "source": [
    "df_gradeCount[\"FinalGrade\"].plot.area(stacked=False)"
   ]
  },
  {
   "cell_type": "code",
   "execution_count": null,
   "metadata": {},
   "outputs": [],
   "source": []
  }
 ],
 "metadata": {
  "kernelspec": {
   "display_name": "Python 3",
   "language": "python",
   "name": "python3"
  },
  "language_info": {
   "codemirror_mode": {
    "name": "ipython",
    "version": 3
   },
   "file_extension": ".py",
   "mimetype": "text/x-python",
   "name": "python",
   "nbconvert_exporter": "python",
   "pygments_lexer": "ipython3",
   "version": "3.8.5"
  }
 },
 "nbformat": 4,
 "nbformat_minor": 5
}
