{
 "cells": [
  {
   "cell_type": "code",
   "execution_count": null,
   "metadata": {},
   "outputs": [],
   "source": [
    "import pandas as pd\n",
    "\n",
    "## Having a variable = to the statement saves the changes. \n",
    "df = pd.read(r\"document name.csv\")\n",
    "df\n",
    "\n",
    "## Drop columns - Does not save changes however\n",
    "df.drop(columns = \"Column name\")\n",
    "\n",
    "# This saves the changes\n",
    "df = df.drop(columns = \"Column name\")\n",
    "df # Displays the changed table\n",
    "\n",
    "# Access only one column and delete values given in the strip()\n",
    "df[\"Column_name\"] = df[\"Column_name\"].str.strip(\"123.;/_-\")\n",
    "\n",
    "# Replacing values in a row that you dont want with smth else\n",
    "df[\"Column_name\"]  = df[\"Column_name\"].str.replace('Value you wish to replace', '')\n",
    "# '' = Empty string. \n",
    "\n",
    "\n",
    "# Split to create extra columns - In this example we create 3 columns from one. \n",
    "# str.split(',',2, expand=True)  --> Expands and creates 2 extra columns at ,\n",
    "df[[\"Replacing name of column 1\",\"Replacing name of column 2\",\"Replacing name of column 3\"]] = df[\"Access the column you wish to manipulate\"].str.split(',',2,expand=True)\n",
    "\n",
    "# Replace data across the whole dataframe\n",
    "df = df.replace('Value','')\n",
    "\n",
    "#Fills all values that are not assigned, or has empty values with empty string\n",
    "df = df.fillna('')\n",
    "\n",
    "# Remove certain values \n",
    "# Example, remove Y \n",
    "for x in df.index:\n",
    "    if df.loc[x,\"Column you wish to manipulate\"] == \"Y\":\n",
    "        df.drop(x,inplace= True) # Inplace= True is another way to save the manipulated file/Column. \n",
    "# .loc() Looks at indexes and manipulates them\n",
    "\n",
    "df # Displays new and manipulated data\n",
    "\n",
    "# Reset index of each column if you've deleted a few rows and numbers are messed up. \n",
    "df.reset_index(drop=True)\n",
    "\n",
    "\n",
    "\n",
    "\n",
    "\n"
   ]
  }
 ],
 "metadata": {
  "language_info": {
   "name": "python"
  }
 },
 "nbformat": 4,
 "nbformat_minor": 2
}
